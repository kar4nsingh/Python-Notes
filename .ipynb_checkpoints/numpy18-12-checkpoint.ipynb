{
 "cells": [
  {
   "cell_type": "code",
   "execution_count": 25,
   "id": "db6f4d91-cadb-4633-b694-66f18b8e0df1",
   "metadata": {},
   "outputs": [
    {
     "name": "stdout",
     "output_type": "stream",
     "text": [
      "2\n",
      "3\n",
      "5\n",
      "7\n",
      "11\n",
      "13\n",
      "17\n",
      "19\n",
      "23\n",
      "29\n",
      "31\n",
      "37\n",
      "41\n",
      "43\n",
      "47\n",
      "53\n",
      "59\n",
      "61\n",
      "67\n",
      "71\n",
      "73\n",
      "79\n",
      "83\n",
      "89\n",
      "97\n"
     ]
    }
   ],
   "source": [
    "# 1     Write a program to find the first prime number between 1 and 100 using a for loop. Stop the loop when you find the first prime.\n",
    "for num in range(0,101):\n",
    "   if num > 1:\n",
    "       for i in range(2, num):\n",
    "           if (num % i) == 0:\n",
    "               break\n",
    "       else:\n",
    "           print(num) "
   ]
  },
  {
   "cell_type": "code",
   "execution_count": 1,
   "id": "4dccd2e2-db53-4625-b529-437fd2df9617",
   "metadata": {},
   "outputs": [
    {
     "name": "stdout",
     "output_type": "stream",
     "text": [
      "2\n",
      "6\n",
      "10\n",
      "14\n",
      "18\n",
      "22\n",
      "26\n",
      "30\n",
      "34\n",
      "38\n",
      "42\n",
      "46\n",
      "50\n"
     ]
    }
   ],
   "source": [
    "# 2.\tCreate a program that prints all the even numbers from 1 to 50, skipping any number that is a multiple of 4.\n",
    "for i in range(1,51):\n",
    "    if i%2==0:\n",
    "        if i%4==0:\n",
    "            continue\n",
    "        print(i)"
   ]
  },
  {
   "cell_type": "code",
   "execution_count": 2,
   "id": "85ea2bd3-88d6-4e7c-91c2-d928e34be091",
   "metadata": {},
   "outputs": [
    {
     "name": "stdout",
     "output_type": "stream",
     "text": [
      "2\n",
      "4\n",
      "6\n",
      "8\n",
      "10\n",
      "12\n",
      "14\n",
      "16\n",
      "18\n",
      "20\n",
      "22\n",
      "24\n",
      "26\n",
      "28\n",
      "30\n",
      "32\n",
      "34\n",
      "36\n",
      "38\n",
      "40\n",
      "42\n",
      "44\n",
      "46\n",
      "48\n",
      "50\n",
      "52\n",
      "54\n",
      "56\n",
      "58\n",
      "60\n",
      "62\n",
      "64\n",
      "66\n",
      "68\n",
      "70\n",
      "72\n",
      "74\n",
      "76\n",
      "78\n",
      "80\n",
      "82\n",
      "84\n",
      "86\n",
      "88\n",
      "90\n",
      "92\n",
      "94\n",
      "96\n",
      "98\n",
      "100\n"
     ]
    }
   ],
   "source": [
    "# 3.\tWrite a function that takes a list of integers and prints the even numbers. Use pass for odd numbers.\n",
    "for i in range(1,101):\n",
    "    if i%2==0:\n",
    "        pass\n",
    "        print(i)"
   ]
  },
  {
   "cell_type": "code",
   "execution_count": 3,
   "id": "e58f3031-7b04-4c29-82c6-8444e703f31e",
   "metadata": {},
   "outputs": [
    {
     "name": "stdout",
     "output_type": "stream",
     "text": [
      "1 x 1 = 1\n",
      "1 x 2 = 2\n",
      "1 x 3 = 3\n",
      "1 x 4 = 4\n",
      "1 x 5 = 5\n",
      "1 x 6 = 6\n",
      "1 x 7 = 7\n",
      "1 x 8 = 8\n",
      "1 x 9 = 9\n",
      "1 x 10 = 10\n",
      "2 x 1 = 2\n",
      "2 x 2 = 4\n",
      "2 x 3 = 6\n",
      "2 x 4 = 8\n",
      "2 x 5 = 10\n",
      "2 x 6 = 12\n",
      "2 x 7 = 14\n",
      "2 x 8 = 16\n",
      "2 x 9 = 18\n",
      "2 x 10 = 20\n",
      "3 x 1 = 3\n",
      "3 x 2 = 6\n",
      "3 x 3 = 9\n",
      "3 x 4 = 12\n",
      "3 x 5 = 15\n",
      "3 x 6 = 18\n",
      "3 x 7 = 21\n",
      "3 x 8 = 24\n",
      "3 x 9 = 27\n",
      "3 x 10 = 30\n",
      "4 x 1 = 4\n",
      "4 x 2 = 8\n",
      "4 x 3 = 12\n",
      "4 x 4 = 16\n",
      "4 x 5 = 20\n",
      "4 x 6 = 24\n",
      "4 x 7 = 28\n",
      "4 x 8 = 32\n",
      "4 x 9 = 36\n",
      "4 x 10 = 40\n",
      "5 x 1 = 5\n",
      "5 x 2 = 10\n",
      "5 x 3 = 15\n",
      "5 x 4 = 20\n",
      "5 x 5 = 25\n",
      "5 x 6 = 30\n",
      "5 x 7 = 35\n",
      "5 x 8 = 40\n",
      "5 x 9 = 45\n",
      "5 x 10 = 50\n",
      "6 x 1 = 6\n",
      "6 x 2 = 12\n",
      "6 x 3 = 18\n",
      "6 x 4 = 24\n",
      "6 x 5 = 30\n",
      "6 x 6 = 36\n",
      "6 x 7 = 42\n",
      "6 x 8 = 48\n",
      "7 x 1 = 7\n",
      "7 x 2 = 14\n",
      "7 x 3 = 21\n",
      "7 x 4 = 28\n",
      "7 x 5 = 35\n",
      "7 x 6 = 42\n",
      "7 x 7 = 49\n",
      "8 x 1 = 8\n",
      "8 x 2 = 16\n",
      "8 x 3 = 24\n",
      "8 x 4 = 32\n",
      "8 x 5 = 40\n",
      "8 x 6 = 48\n",
      "9 x 1 = 9\n",
      "9 x 2 = 18\n",
      "9 x 3 = 27\n",
      "9 x 4 = 36\n",
      "9 x 5 = 45\n",
      "10 x 1 = 10\n",
      "10 x 2 = 20\n",
      "10 x 3 = 30\n",
      "10 x 4 = 40\n",
      "10 x 5 = 50\n"
     ]
    }
   ],
   "source": [
    "# 4.\tGenerate a multiplication table for numbers 1 to 10. Break the inner loop when the product exceeds 50.\n",
    "for i in range(1,11):\n",
    "    for x in range(1,11):\n",
    "        output = i*x\n",
    "        if output>50:\n",
    "            break\n",
    "        print(i, \"x\", x, \"=\", output)"
   ]
  },
  {
   "cell_type": "code",
   "execution_count": 4,
   "id": "515a1ede-406e-41eb-9018-2e61c7b2e7ed",
   "metadata": {},
   "outputs": [
    {
     "name": "stdout",
     "output_type": "stream",
     "text": [
      "1\n",
      "2\n",
      "3\n",
      "4\n",
      "6\n",
      "7\n",
      "8\n",
      "9\n",
      "11\n",
      "12\n",
      "13\n",
      "14\n",
      "16\n",
      "17\n",
      "18\n",
      "19\n"
     ]
    }
   ],
   "source": [
    "# 5.\t Write a program that uses a while loop to print numbers from 1 to 20 but skips the numbers that are multiples of 5.\n",
    "i = 1\n",
    "while i < 21:\n",
    "    if i%5==0:\n",
    "        i += 1\n",
    "        continue\n",
    "    print(i)\n",
    "    i+=1"
   ]
  },
  {
   "cell_type": "code",
   "execution_count": 29,
   "id": "7c5d7fdc-02fa-4f78-aeed-bed61835172b",
   "metadata": {},
   "outputs": [
    {
     "data": {
      "text/plain": [
       "24"
      ]
     },
     "execution_count": 29,
     "metadata": {},
     "output_type": "execute_result"
    }
   ],
   "source": [
    "# 1.)Write a function to calculate the factorial of a given number using recursion.\n",
    "def factorial(f):\n",
    "    if f == 0 or f == 1:\n",
    "        return 1\n",
    "    else:\n",
    "        return f * factorial(f-1)\n",
    "factorial(4)"
   ]
  },
  {
   "cell_type": "code",
   "execution_count": 33,
   "id": "59728b28-210a-4aca-9774-da140d353e73",
   "metadata": {},
   "outputs": [
    {
     "name": "stdout",
     "output_type": "stream",
     "text": [
      "second is greatest\n"
     ]
    }
   ],
   "source": [
    "# 2.)Write a Python program to find the greatest of three numbers using a user-defined function.\n",
    "def greatest(first,second,third):\n",
    "    if first<second<third :\n",
    "        print(\"Third is greatest\")\n",
    "    elif first>second>third:\n",
    "        print(\"First is greatest\")\n",
    "    else :\n",
    "        print(\"second is greatest\")\n",
    "greatest(3,20,1)"
   ]
  },
  {
   "cell_type": "code",
   "execution_count": 46,
   "id": "74a24381-091d-4faf-a570-d093897ac096",
   "metadata": {},
   "outputs": [
    {
     "data": {
      "text/plain": [
       "50"
      ]
     },
     "execution_count": 46,
     "metadata": {},
     "output_type": "execute_result"
    }
   ],
   "source": [
    "# 3.)Create a function that takes a list of numbers and returns the sum of all even numbers in the list.\n",
    "def summ(*numbers):\n",
    "    even = 0\n",
    "    for i in numbers:\n",
    "        if i % 2 == 0:\n",
    "            even += i\n",
    "    return even\n",
    "summ(1,2,3,34,5,6,7,8)"
   ]
  },
  {
   "cell_type": "code",
   "execution_count": 48,
   "id": "66343770-7244-48cc-9bee-0ab35aeda26c",
   "metadata": {},
   "outputs": [
    {
     "data": {
      "text/plain": [
       "20"
      ]
     },
     "execution_count": 48,
     "metadata": {},
     "output_type": "execute_result"
    }
   ],
   "source": [
    "# 4.)Write a Python program to create a lambda function that multiplies two numbers.\n",
    "multi = lambda x,y : x*y\n",
    "multi(4,5)"
   ]
  },
  {
   "cell_type": "code",
   "execution_count": 53,
   "id": "2f9d768f-8588-41a3-a1bb-aa36e457acf5",
   "metadata": {},
   "outputs": [
    {
     "data": {
      "text/plain": [
       "'olleh'"
      ]
     },
     "execution_count": 53,
     "metadata": {},
     "output_type": "execute_result"
    }
   ],
   "source": [
    "# 5.)Write a function that returns the reverse of a string using recursion.\n",
    "def rev(string):\n",
    "    return string[::-1]\n",
    "rev(\"hello\")"
   ]
  },
  {
   "cell_type": "code",
   "execution_count": 4,
   "id": "cabed88a-36c4-47a3-80be-2ccd89641cfc",
   "metadata": {},
   "outputs": [
    {
     "name": "stdout",
     "output_type": "stream",
     "text": [
      "TRUE\n"
     ]
    }
   ],
   "source": [
    "# 6.)Write a Python function that takes a string as input and returns True if it's a palindrome and False otherwise.\n",
    "def palindrome(str):\n",
    "    if str == str[::-1]:\n",
    "        print(\"TRUE\")\n",
    "    else:\n",
    "        print(\"FALSE\")\n",
    "palindrome(\"racecar\")"
   ]
  },
  {
   "cell_type": "code",
   "execution_count": 7,
   "id": "81d39b8e",
   "metadata": {},
   "outputs": [
    {
     "data": {
      "text/plain": [
       "62"
      ]
     },
     "execution_count": 7,
     "metadata": {},
     "output_type": "execute_result"
    }
   ],
   "source": [
    "# 7.)Create a function that finds the maximum value in a list without using the built-in max() function.\n",
    "def maximum(*numbers):\n",
    "    sort = sorted(numbers)\n",
    "    return sort[-1]\n",
    "maximum(1,9,4,1,5,33,62,1,3,55)"
   ]
  },
  {
   "cell_type": "code",
   "execution_count": 8,
   "id": "52fccb1e",
   "metadata": {},
   "outputs": [],
   "source": [
    "# 8.)Write a Python function that accepts another function as an argument and applies it to a list of numbers.\n"
   ]
  },
  {
   "cell_type": "code",
   "execution_count": 22,
   "id": "acb520d9",
   "metadata": {},
   "outputs": [
    {
     "data": {
      "text/plain": [
       "[2, 3, 4, 5]"
      ]
     },
     "execution_count": 22,
     "metadata": {},
     "output_type": "execute_result"
    }
   ],
   "source": [
    "# 10.)Write a function that takes two lists as arguments and returns a list containing only the common elements.\n",
    "def common(list1,list2):\n",
    "    l3 = []\n",
    "    for i in list1:\n",
    "        if i in list2:\n",
    "            l3.append(i)\n",
    "    return l3\n",
    "l1 = [1,2,3,4,5,6,7,8,9]\n",
    "l2 = [2,10,3,13,5,55,4]\n",
    "common(l1,l2)"
   ]
  },
  {
   "cell_type": "code",
   "execution_count": 5,
   "id": "18809967",
   "metadata": {},
   "outputs": [
    {
     "name": "stdout",
     "output_type": "stream",
     "text": [
      "[25, 36, 49, 1]\n"
     ]
    }
   ],
   "source": [
    "# 11.)Implement a function using the map() function to square all elements of a list.\n",
    "def square(n):\n",
    "    return n * n\n",
    "listt = [5, 6, 7, 1]\n",
    "result = map(square, listt)\n",
    "print(list(result))"
   ]
  },
  {
   "cell_type": "code",
   "execution_count": 7,
   "id": "4ac3a722",
   "metadata": {},
   "outputs": [
    {
     "data": {
      "text/plain": [
       "{'a': 9, 'b': 5, 'c': 3}"
      ]
     },
     "execution_count": 7,
     "metadata": {},
     "output_type": "execute_result"
    }
   ],
   "source": [
    "# 12.)Write a Python function to merge two dictionaries.\n",
    "def merge(dict1,dict2):\n",
    "    return dict1 | dict2\n",
    "d1 = {\"a\": 7, \"b\": 5}\n",
    "d2 = {\"a\": 9, \"c\": 3}\n",
    "merge(d1,d2)"
   ]
  },
  {
   "cell_type": "code",
   "execution_count": null,
   "id": "ed61f4a7",
   "metadata": {},
   "outputs": [],
   "source": [
    "# 13.)Create a decorator function that logs the start and end of function execution."
   ]
  },
  {
   "cell_type": "code",
   "execution_count": 9,
   "id": "4a03510c",
   "metadata": {},
   "outputs": [
    {
     "data": {
      "text/plain": [
       "153.86"
      ]
     },
     "execution_count": 9,
     "metadata": {},
     "output_type": "execute_result"
    }
   ],
   "source": [
    "# 14.)Write a function to calculate the area of a circle, where the radius is passed as an argument.\n",
    "def area(radius):\n",
    "    return 3.14 * (radius*radius)\n",
    "area(7) "
   ]
  },
  {
   "cell_type": "code",
   "execution_count": 14,
   "id": "04f5ecd4",
   "metadata": {},
   "outputs": [
    {
     "data": {
      "text/plain": [
       "15"
      ]
     },
     "execution_count": 14,
     "metadata": {},
     "output_type": "execute_result"
    }
   ],
   "source": [
    "# 15.)Write a function that takes positional arguments and returns their sum.\n",
    "def sum(*numbers):\n",
    "    x = 0\n",
    "    for i in numbers:\n",
    "        x+=i\n",
    "    return x\n",
    "sum(1,2,3,9)"
   ]
  }
 ],
 "metadata": {
  "kernelspec": {
   "display_name": "Python 3",
   "language": "python",
   "name": "python3"
  },
  "language_info": {
   "codemirror_mode": {
    "name": "ipython",
    "version": 3
   },
   "file_extension": ".py",
   "mimetype": "text/x-python",
   "name": "python",
   "nbconvert_exporter": "python",
   "pygments_lexer": "ipython3",
   "version": "3.12.7"
  }
 },
 "nbformat": 4,
 "nbformat_minor": 5
}
