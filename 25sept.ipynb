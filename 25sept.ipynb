{
 "cells": [
  {
   "cell_type": "code",
   "execution_count": 8,
   "metadata": {},
   "outputs": [
    {
     "name": "stdout",
     "output_type": "stream",
     "text": [
      "My name is Karan Singh.\n",
      "I am from Garhshankar.\n",
      "I have done my Bachelors in Commerce.\n",
      "My age is 22 years old.\n",
      "My weight is 60kg.\n"
     ]
    }
   ],
   "source": [
    "file = open(\"myname.txt\",\"r\")\n",
    "abc = file.read()\n",
    "print(abc)\n",
    "file.close()"
   ]
  },
  {
   "cell_type": "code",
   "execution_count": 16,
   "metadata": {},
   "outputs": [
    {
     "name": "stdout",
     "output_type": "stream",
     "text": [
      "i am learning python here\n"
     ]
    }
   ],
   "source": [
    "file = open(\"myname.txt\",\"w\")\n",
    "file.write(\"i am learning python here\")\n",
    "file.close()\n",
    "file = open(\"myname.txt\",\"r\")\n",
    "abc = file.read()\n",
    "print(abc)\n",
    "file.close()"
   ]
  },
  {
   "cell_type": "code",
   "execution_count": 25,
   "metadata": {},
   "outputs": [],
   "source": [
    "file = open(\"myname.txt\",\"a\")\n",
    "file.write(\"i am also learning DM here\")\n",
    "file.close()"
   ]
  },
  {
   "cell_type": "code",
   "execution_count": 26,
   "metadata": {},
   "outputs": [
    {
     "name": "stdout",
     "output_type": "stream",
     "text": [
      "i am learning python herei am also learning DM here/ni am also learning DM herei am also learning DM herei am also learning DM here\n"
     ]
    }
   ],
   "source": [
    "file = open(\"myname.txt\",\"r\")\n",
    "abc = file.read()\n",
    "print(abc)\n",
    "file.close()"
   ]
  },
  {
   "cell_type": "code",
   "execution_count": null,
   "metadata": {},
   "outputs": [],
   "source": []
  }
 ],
 "metadata": {
  "kernelspec": {
   "display_name": "Python 3",
   "language": "python",
   "name": "python3"
  },
  "language_info": {
   "codemirror_mode": {
    "name": "ipython",
    "version": 3
   },
   "file_extension": ".py",
   "mimetype": "text/x-python",
   "name": "python",
   "nbconvert_exporter": "python",
   "pygments_lexer": "ipython3",
   "version": "3.12.5"
  }
 },
 "nbformat": 4,
 "nbformat_minor": 2
}
