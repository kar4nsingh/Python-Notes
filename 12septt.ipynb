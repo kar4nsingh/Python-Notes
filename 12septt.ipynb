{
 "cells": [
  {
   "cell_type": "code",
   "execution_count": null,
   "metadata": {},
   "outputs": [],
   "source": [
    "#OOPS:\n",
    "#1.class>>>>>it is the blueprint for  a object\n",
    "#2.object>>>>> it is the instance  of class\n",
    "#3.polymorphism\n",
    "#4.data abstraction\n",
    "#5.inheritance\n",
    "#6.encapsulation\n"
   ]
  },
  {
   "cell_type": "code",
   "execution_count": null,
   "metadata": {},
   "outputs": [],
   "source": [
    "#constructor>>>>>>>>>>>>>>>>>>>\n",
    "#used for >>>>>>>1.memory location\n",
    "                #2.properties\n",
    "#1.default constructor\n",
    "#2.parametrized constructor"
   ]
  },
  {
   "cell_type": "code",
   "execution_count": 3,
   "metadata": {},
   "outputs": [
    {
     "name": "stdout",
     "output_type": "stream",
     "text": [
      "20\n",
      "the name of student is vanita and the age is 20 and the straem is science\n"
     ]
    }
   ],
   "source": [
    "#programme:\n",
    "# WAP to write a function by using default and parametrized constructer:\n",
    "class student:\n",
    "    def __init__(self,name,age,stream):\n",
    "     self.name=name #>>>>>>>>>properties\n",
    "     self.age=age#>>>>>>>>>>>>>>>>>>\n",
    "     self.stream=stream#>>>>>>>>>>>>>>>>\n",
    "    def var(self):#>>>>>>>>>>>default\n",
    "       print(f\"the name of student is {self.name} and the age is {self.age} and the straem is {self.stream}\")\n",
    "var1=student(\"vanita\",\"20\",\"science\")\n",
    "print(var1.age)\n",
    "var1.var()"
   ]
  },
  {
   "cell_type": "code",
   "execution_count": 14,
   "metadata": {},
   "outputs": [
    {
     "name": "stdout",
     "output_type": "stream",
     "text": [
      "Army\n",
      "the first defence field is Army 2nd is Navy and 3rd is Airforce\n"
     ]
    }
   ],
   "source": [
    "class defence:\n",
    "    def __init__(self,first,second,third):\n",
    "        self.first=first\n",
    "        self.second=second\n",
    "        self.third=third\n",
    "    def brat(self):\n",
    "        print(f\"the first defence field is {self.first} 2nd is {self.second} and 3rd is {self.third}\")\n",
    "#creating object:\n",
    "brats=defence(\"Army\",\"Navy\",\"Airforce\")\n",
    "print(brats.first)\n",
    "brats.brat()\n"
   ]
  },
  {
   "cell_type": "code",
   "execution_count": 21,
   "metadata": {},
   "outputs": [
    {
     "name": "stdout",
     "output_type": "stream",
     "text": [
      "black\n",
      "the colour of car is black and the model is  scorpio and the brand is mahindra \n"
     ]
    }
   ],
   "source": [
    "class car:\n",
    "    def __init__(self,name,brand,colour):\n",
    "        self.name=name\n",
    "        self.brand=brand\n",
    "        self.colour=colour\n",
    "    def design(self):\n",
    "        print(f\"the colour of car is {self.colour} and the model is {self.name} and the brand is {self.brand} \")\n",
    "design1= car(\" scorpio\", \"mahindra\", \"black\")\n",
    "print(design1.colour)\n",
    "design1.design()"
   ]
  },
  {
   "cell_type": "code",
   "execution_count": null,
   "metadata": {},
   "outputs": [],
   "source": []
  }
 ],
 "metadata": {
  "kernelspec": {
   "display_name": "Python 3",
   "language": "python",
   "name": "python3"
  },
  "language_info": {
   "codemirror_mode": {
    "name": "ipython",
    "version": 3
   },
   "file_extension": ".py",
   "mimetype": "text/x-python",
   "name": "python",
   "nbconvert_exporter": "python",
   "pygments_lexer": "ipython3",
   "version": "3.12.4"
  }
 },
 "nbformat": 4,
 "nbformat_minor": 2
}
