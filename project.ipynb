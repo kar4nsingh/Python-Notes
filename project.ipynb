{
 "cells": [
  {
   "cell_type": "code",
   "execution_count": 1,
   "metadata": {},
   "outputs": [],
   "source": [
    "#restaurant"
   ]
  },
  {
   "cell_type": "code",
   "execution_count": 18,
   "metadata": {},
   "outputs": [
    {
     "name": "stdout",
     "output_type": "stream",
     "text": [
      "Welcome to ABC Restaurant !\n",
      " burger : 50\n",
      " pasta : 70\n",
      " coffee : 20\n",
      " pizza : 100\n",
      "your order has been placed successfully\n",
      "your grandtotal is 150\n"
     ]
    }
   ],
   "source": [
    "print(\"Welcome to ABC Restaurant !\")\n",
    "menu = { \"burger\" : 50 , \"pasta\" : 70 , \"coffee\" : 20 , \"pizza\" : 100 }\n",
    "ordertotal = 0\n",
    "print(\" burger : 50\\n pasta : 70\\n coffee : 20\\n pizza : 100\")\n",
    "item1=input(\"enter an item you want to order\")\n",
    "if item1 in menu:\n",
    "    ordertotal+=menu[item1]\n",
    "    print(\"your order has been placed successfully\")\n",
    "else:\n",
    "    print(\"sorry,we don't offer this\")\n",
    "anotherorder=input(\"anything else you want??? (yes/no)\")\n",
    "if anotherorder ==\"yes\":\n",
    "    item2=input(\"enter an item you want to order\")\n",
    "    if item2 in menu:\n",
    "        ordertotal+=menu[item2]\n",
    "        print(f\"your grandtotal is {ordertotal}\")\n",
    "    else:\n",
    "        print(\"sorry,we don't offer this\")\n",
    "        print(f\"your grandtotal is {ordertotal}\")\n",
    "elif anotherorder==\"no\":\n",
    "    print(f\"your grandtotal is {ordertotal}\")\n"
   ]
  },
  {
   "cell_type": "code",
   "execution_count": null,
   "metadata": {},
   "outputs": [],
   "source": []
  }
 ],
 "metadata": {
  "kernelspec": {
   "display_name": "Python 3",
   "language": "python",
   "name": "python3"
  },
  "language_info": {
   "codemirror_mode": {
    "name": "ipython",
    "version": 3
   },
   "file_extension": ".py",
   "mimetype": "text/x-python",
   "name": "python",
   "nbconvert_exporter": "python",
   "pygments_lexer": "ipython3",
   "version": "3.12.5"
  }
 },
 "nbformat": 4,
 "nbformat_minor": 2
}
