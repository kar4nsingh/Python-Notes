{
 "cells": [
  {
   "cell_type": "code",
   "execution_count": 1,
   "id": "7b16b5f6-62a3-4217-9ba3-400dd06049f0",
   "metadata": {},
   "outputs": [],
   "source": [
    "import numpy as np"
   ]
  },
  {
   "cell_type": "code",
   "execution_count": 2,
   "id": "0e98b8ca-4a53-4d62-a6f9-a19d70c8c7c1",
   "metadata": {},
   "outputs": [
    {
     "data": {
      "text/plain": [
       "array([1, 2, 3, 4, 5, 6])"
      ]
     },
     "execution_count": 2,
     "metadata": {},
     "output_type": "execute_result"
    }
   ],
   "source": [
    "arr = np.array([1,2,3,4,5,6])\n",
    "arr"
   ]
  },
  {
   "cell_type": "code",
   "execution_count": 4,
   "id": "59f9bef3-3e9a-400a-a399-bf3b079c0f23",
   "metadata": {},
   "outputs": [
    {
     "name": "stdout",
     "output_type": "stream",
     "text": [
      "[2 3 6 5 1 4]\n"
     ]
    }
   ],
   "source": [
    "np.random.shuffle(arr)\n",
    "print(arr)"
   ]
  },
  {
   "cell_type": "code",
   "execution_count": 5,
   "id": "a2a3fb34-2820-4a51-b945-cb0bf011f0d5",
   "metadata": {},
   "outputs": [
    {
     "data": {
      "text/plain": [
       "array([[1, 2, 3, 4],\n",
       "       [5, 6, 7, 8]])"
      ]
     },
     "execution_count": 5,
     "metadata": {},
     "output_type": "execute_result"
    }
   ],
   "source": [
    "arr1 = np.array([[1,2,3,4],[5,6,7,8]])\n",
    "arr1"
   ]
  },
  {
   "cell_type": "code",
   "execution_count": 6,
   "id": "bf6fbf14-af89-4e77-abe5-69e511c1bda4",
   "metadata": {},
   "outputs": [
    {
     "data": {
      "text/plain": [
       "array([1, 2, 3, 4, 5, 6, 7, 8])"
      ]
     },
     "execution_count": 6,
     "metadata": {},
     "output_type": "execute_result"
    }
   ],
   "source": [
    "arr1.flatten()"
   ]
  },
  {
   "cell_type": "code",
   "execution_count": 8,
   "id": "ad49c313-a488-4e8a-beb2-d043ba81fff7",
   "metadata": {},
   "outputs": [
    {
     "data": {
      "text/plain": [
       "array([1, 2, 3, 4, 5, 6, 7, 8])"
      ]
     },
     "execution_count": 8,
     "metadata": {},
     "output_type": "execute_result"
    }
   ],
   "source": [
    "np.ravel(arr1)  #it also flattens the array"
   ]
  },
  {
   "cell_type": "code",
   "execution_count": 9,
   "id": "9bc45311-f56a-4bf2-b9ef-56125b5582a0",
   "metadata": {},
   "outputs": [
    {
     "data": {
      "text/plain": [
       "array([1, 2, 3, 3, 2, 5, 6, 7, 7])"
      ]
     },
     "execution_count": 9,
     "metadata": {},
     "output_type": "execute_result"
    }
   ],
   "source": [
    "arr2 = np.array([1,2,3,3,2,5,6,7,7])\n",
    "arr2"
   ]
  },
  {
   "cell_type": "code",
   "execution_count": 10,
   "id": "1413687a-fa40-4640-a377-19d502f59650",
   "metadata": {},
   "outputs": [
    {
     "data": {
      "text/plain": [
       "array([1, 2, 3, 5, 6, 7])"
      ]
     },
     "execution_count": 10,
     "metadata": {},
     "output_type": "execute_result"
    }
   ],
   "source": [
    "np.unique(arr2)"
   ]
  },
  {
   "cell_type": "code",
   "execution_count": 12,
   "id": "91e8efc0-c17c-4644-ac68-f5b57d19b145",
   "metadata": {},
   "outputs": [
    {
     "data": {
      "text/plain": [
       "array([[1, 2, 3],\n",
       "       [3, 2, 5]])"
      ]
     },
     "execution_count": 12,
     "metadata": {},
     "output_type": "execute_result"
    }
   ],
   "source": [
    "arr2 = np.array([1,2,3,3,2,5])\n",
    "np.resize(arr2,(2,3))"
   ]
  },
  {
   "cell_type": "code",
   "execution_count": 13,
   "id": "fef969cf-7105-4739-b09d-84cfa158634f",
   "metadata": {},
   "outputs": [
    {
     "data": {
      "text/plain": [
       "array([1, 2, 3, 4, 3, 2, 5])"
      ]
     },
     "execution_count": 13,
     "metadata": {},
     "output_type": "execute_result"
    }
   ],
   "source": [
    "arr2 = np.array([1,2,3,3,2,5])\n",
    "np.insert(arr2, 3, 4)"
   ]
  },
  {
   "cell_type": "code",
   "execution_count": 17,
   "id": "d5193dac-6ec4-4a86-87e2-09a518a5c2fd",
   "metadata": {},
   "outputs": [
    {
     "data": {
      "text/plain": [
       "array([1, 2, 3, 5, 6])"
      ]
     },
     "execution_count": 17,
     "metadata": {},
     "output_type": "execute_result"
    }
   ],
   "source": [
    "arr3= ([1,2,3,4,5,6])\n",
    "np.delete(arr3, 3)"
   ]
  },
  {
   "cell_type": "code",
   "execution_count": 18,
   "id": "8a4ccffd-5959-4781-b403-7a4403a18eb6",
   "metadata": {},
   "outputs": [
    {
     "data": {
      "text/plain": [
       "[array([1, 2, 3]), array([4, 5]), array([6, 7]), array([8, 9])]"
      ]
     },
     "execution_count": 18,
     "metadata": {},
     "output_type": "execute_result"
    }
   ],
   "source": [
    "arrr = np.array([1,2,3,4,5,6,7,8,9])\n",
    "np.array_split(arrr, 4)"
   ]
  },
  {
   "cell_type": "code",
   "execution_count": null,
   "id": "7d5584f9-fdb6-46df-bf61-d7b43422e6ec",
   "metadata": {},
   "outputs": [],
   "source": []
  },
  {
   "cell_type": "code",
   "execution_count": null,
   "id": "bfedb4ef-d941-4d34-bc31-7a0cd0d68aa4",
   "metadata": {},
   "outputs": [],
   "source": []
  }
 ],
 "metadata": {
  "kernelspec": {
   "display_name": "Python 3 (ipykernel)",
   "language": "python",
   "name": "python3"
  },
  "language_info": {
   "codemirror_mode": {
    "name": "ipython",
    "version": 3
   },
   "file_extension": ".py",
   "mimetype": "text/x-python",
   "name": "python",
   "nbconvert_exporter": "python",
   "pygments_lexer": "ipython3",
   "version": "3.12.7"
  }
 },
 "nbformat": 4,
 "nbformat_minor": 5
}
