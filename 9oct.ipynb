{
 "cells": [
  {
   "cell_type": "code",
   "execution_count": 1,
   "metadata": {},
   "outputs": [],
   "source": [
    "#stone paper scissor"
   ]
  },
  {
   "cell_type": "code",
   "execution_count": 2,
   "metadata": {},
   "outputs": [
    {
     "name": "stdout",
     "output_type": "stream",
     "text": [
      "paper\n",
      "scissor\n",
      "pc wins\n"
     ]
    }
   ],
   "source": [
    "import numpy as np\n",
    "import random\n",
    "choices = [ \"stone\", \"paper\", \"scissor\"]\n",
    "while True:\n",
    "    user = input(\"Enter your Choice\")\n",
    "    print(user)\n",
    "    pc = random.choice(choices)\n",
    "    print(pc)\n",
    "    if user == pc:\n",
    "        print(\"Draw\")\n",
    "    elif user == \"stone\" and pc == \"paper\":\n",
    "        print(\"pc wins\")\n",
    "    elif user == \"stone\" and pc == \"scissor\":\n",
    "        print(\"user wins\")\n",
    "    elif user == \"paper\" and pc == \"stone\":\n",
    "        print(\"user wins\")\n",
    "    elif user == \"paper\" and pc == \"scissor\":\n",
    "        print(\"pc wins\")\n",
    "    elif user == \"scissor\" and pc == \"stone\":\n",
    "        print(\"pc wins\")\n",
    "    elif user == \"scissor\" and pc == \"paper\":\n",
    "        print(\"user wins\")\n",
    "    break"
   ]
  },
  {
   "cell_type": "code",
   "execution_count": null,
   "metadata": {},
   "outputs": [],
   "source": []
  },
  {
   "cell_type": "code",
   "execution_count": null,
   "metadata": {},
   "outputs": [],
   "source": []
  },
  {
   "cell_type": "code",
   "execution_count": null,
   "metadata": {},
   "outputs": [],
   "source": []
  },
  {
   "cell_type": "code",
   "execution_count": null,
   "metadata": {},
   "outputs": [],
   "source": []
  }
 ],
 "metadata": {
  "kernelspec": {
   "display_name": "Python 3",
   "language": "python",
   "name": "python3"
  },
  "language_info": {
   "codemirror_mode": {
    "name": "ipython",
    "version": 3
   },
   "file_extension": ".py",
   "mimetype": "text/x-python",
   "name": "python",
   "nbconvert_exporter": "python",
   "pygments_lexer": "ipython3",
   "version": "3.12.5"
  }
 },
 "nbformat": 4,
 "nbformat_minor": 2
}
