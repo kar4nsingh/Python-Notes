{
 "cells": [
  {
   "cell_type": "code",
   "execution_count": 1,
   "metadata": {},
   "outputs": [],
   "source": [
    "#OOPS\n",
    "#class\n",
    "#objects\n",
    "#inheritance   \n",
    "#data abstraction\n",
    "#polymorphism\n",
    "#encapsulation"
   ]
  },
  {
   "cell_type": "code",
   "execution_count": 1,
   "metadata": {},
   "outputs": [
    {
     "name": "stdout",
     "output_type": "stream",
     "text": [
      "karan\n",
      "22 commmerce\n",
      "Name of student is: karan age of student is :22 stream of student is :commmerce\n"
     ]
    }
   ],
   "source": [
    "class students:\n",
    "    def __init__(self,name,age,stream):\n",
    "        self.name=name\n",
    "        self.age=age\n",
    "        self.stream=stream\n",
    "    def details(self):\n",
    "        print(f\"Name of student is: {self.name} age of student is :{self.age} stream of student is :{self.stream}\")\n",
    "student1=students(\"karan\",22,\"commmerce\")\n",
    "print(student1.name)\n",
    "print(student1.age,student1.stream)\n",
    "student1.details()"
   ]
  },
  {
   "cell_type": "code",
   "execution_count": 31,
   "metadata": {},
   "outputs": [
    {
     "name": "stdout",
     "output_type": "stream",
     "text": [
      "Name : abc Age : 22 Marks : {'maths': 13, 'hindi': 68}\n",
      "Percentage is : 40.5\n"
     ]
    }
   ],
   "source": [
    "#1\n",
    "class students:\n",
    "    def __init__(self,name,age,marks):\n",
    "        self.name=name\n",
    "        self.age=age\n",
    "        self.marks=marks \n",
    "    def details(self):\n",
    "        print(f\"Name : {self.name} Age : {self.age} Marks : {self.marks}\")\n",
    "    def percentage_details(self):\n",
    "        total_marks= sum(self.marks.values())\n",
    "        percentage = ((total_marks/200)*100)\n",
    "        print(f\"Percentage is : {percentage}\")\n",
    "student1= students(\"abc\",22,{'maths' : 13,'hindi' : 68})\n",
    "student1.details()\n",
    "student1.percentage_details()"
   ]
  },
  {
   "cell_type": "code",
   "execution_count": 18,
   "metadata": {},
   "outputs": [
    {
     "name": "stdout",
     "output_type": "stream",
     "text": [
      "Account holder : Singh Balance : 50000\n",
      "Deposit success.\n",
      "Account holder : Singh Balance : 55000\n",
      "withdrawal success\n",
      "Account holder : Singh Balance : 15000\n"
     ]
    }
   ],
   "source": [
    "#2\n",
    "class bankaccount:\n",
    "    def __init__(self,account_holder,balance=0):\n",
    "        self.account_holder=account_holder\n",
    "        self.balance=balance\n",
    "    def deposit(self,amount):\n",
    "        if amount>0:\n",
    "            self.balance+=amount\n",
    "            print(f\"Deposit success.\")\n",
    "        else:\n",
    "            print(\"deposit amount should be positive\")\n",
    "    def withdraw(self,amount):\n",
    "        if amount<=0:\n",
    "            print(\"Withdrawal amount should be positive\")\n",
    "        elif amount>self.balance:\n",
    "            print(\"insufficient balance\")\n",
    "        else:\n",
    "            self.balance-=amount\n",
    "            print('withdrawal success')\n",
    "    def check_balance(self):\n",
    "        print(f\"Current Balance : {self.balance}\")\n",
    "    def details(self):\n",
    "        print(f\"Account holder : {self.account_holder} Balance : {self.balance}\")\n",
    "account1=bankaccount(\"Singh\",50000)\n",
    "account1.details()\n",
    "account1.deposit(5000)\n",
    "account1.details()\n",
    "account1.withdraw(40000)\n",
    "account1.details()"
   ]
  },
  {
   "cell_type": "code",
   "execution_count": 28,
   "metadata": {},
   "outputs": [
    {
     "name": "stdout",
     "output_type": "stream",
     "text": [
      "3300\n",
      "230\n"
     ]
    }
   ],
   "source": [
    "#3\n",
    "class rectangle:\n",
    "    def __init__(self,length,breadth):\n",
    "        self.length=length\n",
    "        self.breadth=breadth\n",
    "    def area(self):\n",
    "        print(self.length*self.breadth)\n",
    "    def perimeter(self):\n",
    "        print(2*(self.length+self.breadth))\n",
    "rect1=rectangle(55,60)\n",
    "rect1.area()\n",
    "rect1.perimeter()"
   ]
  },
  {
   "cell_type": "code",
   "execution_count": 48,
   "metadata": {},
   "outputs": [
    {
     "name": "stdout",
     "output_type": "stream",
     "text": [
      "Name : Karan Position : CEO Salary : 50000\n",
      "600000\n",
      "54166.666666666664\n"
     ]
    }
   ],
   "source": [
    "#4\n",
    "class employee_management:\n",
    "    def __init__(self,name,position,salary):\n",
    "        self.name=name\n",
    "        self.position=position\n",
    "        self.salary=salary\n",
    "    def annual(self):\n",
    "        print(self.salary *12)\n",
    "    def raisee(self):\n",
    "        print((self.salary)+self.salary*1/12)\n",
    "    def details(self):\n",
    "        print(f\"Name : {self.name} Position : {self.position} Salary : {self.salary}\")\n",
    "employee1=employee_management(\"Karan\",\"CEO\",50000)\n",
    "employee1.details()\n",
    "employee1.annual()\n",
    "employee1.raisee()"
   ]
  },
  {
   "cell_type": "code",
   "execution_count": null,
   "metadata": {},
   "outputs": [],
   "source": [
    "#5\n",
    "class complexnumber:\n",
    "    def __init__(self,real,imaginary):\n",
    "        self.real=real\n",
    "        self.imaginary=imaginary\n",
    "    def add(self,other):\n",
    "        return\n",
    "complexnumber(self.real+other.real,self.imaginary+other.imaginary)\n",
    "def sub(self,other):\n",
    "    return\n",
    "complexnumber(self.real-other.real,self.imaginary-other.imaginary)\n",
    "def multi(self,other):\n",
    "    real_part=self.real*other.real-self.imaginary*other.imaginary\n",
    "    imaginary_part=self.real*other.imaginary+self.imaginary"
   ]
  },
  {
   "cell_type": "code",
   "execution_count": null,
   "metadata": {},
   "outputs": [],
   "source": []
  },
  {
   "cell_type": "code",
   "execution_count": null,
   "metadata": {},
   "outputs": [],
   "source": []
  },
  {
   "cell_type": "code",
   "execution_count": null,
   "metadata": {},
   "outputs": [],
   "source": []
  },
  {
   "cell_type": "code",
   "execution_count": null,
   "metadata": {},
   "outputs": [],
   "source": []
  },
  {
   "cell_type": "code",
   "execution_count": null,
   "metadata": {},
   "outputs": [],
   "source": []
  },
  {
   "cell_type": "code",
   "execution_count": null,
   "metadata": {},
   "outputs": [],
   "source": []
  },
  {
   "cell_type": "code",
   "execution_count": null,
   "metadata": {},
   "outputs": [],
   "source": []
  }
 ],
 "metadata": {
  "kernelspec": {
   "display_name": "Python 3",
   "language": "python",
   "name": "python3"
  },
  "language_info": {
   "codemirror_mode": {
    "name": "ipython",
    "version": 3
   },
   "file_extension": ".py",
   "mimetype": "text/x-python",
   "name": "python",
   "nbconvert_exporter": "python",
   "pygments_lexer": "ipython3",
   "version": "3.13.0"
  }
 },
 "nbformat": 4,
 "nbformat_minor": 2
}
