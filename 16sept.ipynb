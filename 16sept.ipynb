{
 "cells": [
  {
   "cell_type": "code",
   "execution_count": null,
   "metadata": {},
   "outputs": [],
   "source": [
    "#polymorphisim\n",
    "#two types\n",
    "#(i)operator overloading\n",
    "#(ii)method overriding"
   ]
  },
  {
   "cell_type": "code",
   "execution_count": 87,
   "metadata": {},
   "outputs": [
    {
     "name": "stdout",
     "output_type": "stream",
     "text": [
      "50\n",
      "90\n",
      "45\n",
      "blue\n",
      "red\n",
      "yellow\n",
      "56.5\n",
      "89.45\n",
      "55.7\n"
     ]
    }
   ],
   "source": [
    "def abc(animals,*args):\n",
    "    if animals == 'count':\n",
    "        answer = 0\n",
    "    if animals == 'color':\n",
    "        answer = \"\"\n",
    "    if animals == 'weight':\n",
    "        answer = 0.0\n",
    "    for x in args:\n",
    "        answer = x\n",
    "        print(answer)\n",
    "abc('count',50,90,45)\n",
    "abc('color',\"blue\",\"red\",\"yellow\")\n",
    "abc('weight',56.5,89.45,55.7)"
   ]
  },
  {
   "cell_type": "code",
   "execution_count": 77,
   "metadata": {},
   "outputs": [
    {
     "name": "stdout",
     "output_type": "stream",
     "text": [
      "10\n",
      "10.0\n",
      "heyyhellowhatsup\n"
     ]
    }
   ],
   "source": [
    "def sum(datatype,*args):\n",
    "    if datatype=='int':\n",
    "        answer = 0\n",
    "    if datatype =='str':\n",
    "        answer = \"\"\n",
    "    if datatype == 'float':\n",
    "        answer = 0.0\n",
    "    for x in args:\n",
    "        answer = answer + x\n",
    "    print(answer)\n",
    "sum('int',5,5)\n",
    "sum('float',5.5,4.5)\n",
    "sum('str',\"heyy\",\"hello\",\"whatsup\")"
   ]
  },
  {
   "cell_type": "code",
   "execution_count": null,
   "metadata": {},
   "outputs": [],
   "source": []
  },
  {
   "cell_type": "code",
   "execution_count": null,
   "metadata": {},
   "outputs": [],
   "source": []
  }
 ],
 "metadata": {
  "kernelspec": {
   "display_name": "Python 3",
   "language": "python",
   "name": "python3"
  },
  "language_info": {
   "codemirror_mode": {
    "name": "ipython",
    "version": 3
   },
   "file_extension": ".py",
   "mimetype": "text/x-python",
   "name": "python",
   "nbconvert_exporter": "python",
   "pygments_lexer": "ipython3",
   "version": "3.12.5"
  }
 },
 "nbformat": 4,
 "nbformat_minor": 2
}
