{
 "cells": [
  {
   "cell_type": "code",
   "execution_count": 1,
   "metadata": {},
   "outputs": [],
   "source": [
    "#boolean indexing"
   ]
  },
  {
   "cell_type": "code",
   "execution_count": 1,
   "metadata": {},
   "outputs": [
    {
     "name": "stdout",
     "output_type": "stream",
     "text": [
      "[26 27 28 29 30 31 32 33 34 35 36 37 38 39 40 41 42 43 44 45 46 47 48 49]\n"
     ]
    }
   ],
   "source": [
    "#1\n",
    "import numpy as np\n",
    "arr = np.arange(1,50)\n",
    "boolean_mask = (arr>25)\n",
    "new = arr[boolean_mask]\n",
    "print(new)"
   ]
  },
  {
   "cell_type": "code",
   "execution_count": 3,
   "metadata": {},
   "outputs": [
    {
     "name": "stdout",
     "output_type": "stream",
     "text": [
      "[ 1  3  5  7  9 11 13 15 17 19]\n"
     ]
    }
   ],
   "source": [
    "#2\n",
    "arr = np.arange(21)\n",
    "boolean_mask = (arr%2!=0)\n",
    "new = arr[boolean_mask]\n",
    "print(new)"
   ]
  },
  {
   "cell_type": "code",
   "execution_count": 4,
   "metadata": {},
   "outputs": [
    {
     "name": "stdout",
     "output_type": "stream",
     "text": [
      "[ 0  2  4  6  8 10 12 14 16 18 20 22 24 26 28]\n"
     ]
    }
   ],
   "source": [
    "#3\n",
    "arr = np.arange(30)\n",
    "boolean_mask = (arr%2==0)\n",
    "new = arr[boolean_mask]\n",
    "print(new)"
   ]
  },
  {
   "cell_type": "code",
   "execution_count": 5,
   "metadata": {},
   "outputs": [
    {
     "name": "stdout",
     "output_type": "stream",
     "text": [
      "[51 52 53 54 55 56 57 58 59 60 61 62 63 64 65 66 67 68 69 70 71 72 73 74\n",
      " 75 76 77 78 79]\n"
     ]
    }
   ],
   "source": [
    "#4\n",
    "arr = np.arange(100)\n",
    "boolean_mask = (arr>50) & (arr<80)\n",
    "new = arr[boolean_mask]\n",
    "print(new)"
   ]
  },
  {
   "cell_type": "code",
   "execution_count": 6,
   "metadata": {},
   "outputs": [
    {
     "name": "stdout",
     "output_type": "stream",
     "text": [
      "[-1 -2 -3 -4]\n"
     ]
    }
   ],
   "source": [
    "#5\n",
    "arr = np.array([1,2,3,4,5,-1,-2,-3,-4])\n",
    "boolean_mask = (arr<0)\n",
    "new = arr[boolean_mask]\n",
    "print(new)"
   ]
  },
  {
   "cell_type": "code",
   "execution_count": 7,
   "metadata": {},
   "outputs": [
    {
     "name": "stdout",
     "output_type": "stream",
     "text": [
      "[10 15 20 25 30 35 40 45 50 55 60 65 70 75 80 85 90 95]\n"
     ]
    }
   ],
   "source": [
    "#6\n",
    "arr = np.arange(10,100)\n",
    "boolean_mask = (arr%5==0)\n",
    "new = arr[boolean_mask]\n",
    "print(new)"
   ]
  },
  {
   "cell_type": "code",
   "execution_count": 20,
   "metadata": {},
   "outputs": [
    {
     "name": "stdout",
     "output_type": "stream",
     "text": [
      "[ 0  1  2  3  4  5  6  7  8  9 10 11 12 13 14 15 -1 -1 -1 -1]\n"
     ]
    }
   ],
   "source": [
    "#7\n",
    "arr = np.arange(20)\n",
    "arr[arr>15] = -1\n",
    "print(arr)"
   ]
  },
  {
   "cell_type": "code",
   "execution_count": 17,
   "metadata": {},
   "outputs": [
    {
     "name": "stdout",
     "output_type": "stream",
     "text": [
      "[81 62 91 65 77]\n"
     ]
    }
   ],
   "source": [
    "#8\n",
    "arr = np.random.randint(1,100,size = 10)\n",
    "meannn = np.mean(arr)\n",
    "boolean_mask = arr[arr > meannn]\n",
    "print(boolean_mask)"
   ]
  },
  {
   "cell_type": "code",
   "execution_count": 28,
   "metadata": {},
   "outputs": [
    {
     "name": "stdout",
     "output_type": "stream",
     "text": [
      "[5 6 7 8 9]\n"
     ]
    }
   ],
   "source": [
    "#9\n",
    "arr = np.array([[1,2,3],\n",
    "                [4,5,6],\n",
    "                [7,8,9]])\n",
    "boolean_mask = (arr > 4)\n",
    "result = arr[boolean_mask]\n",
    "print(result)"
   ]
  },
  {
   "cell_type": "code",
   "execution_count": 43,
   "metadata": {},
   "outputs": [
    {
     "name": "stdout",
     "output_type": "stream",
     "text": [
      "[ 6  9 13]\n"
     ]
    }
   ],
   "source": [
    "#10\n",
    "arr = np.array([[1,2,3,4],\n",
    "                 [4,5,6,7],\n",
    "                 [7,8,9,10],\n",
    "                 [11,12,13,14]])\n",
    "column = arr[:,2]\n",
    "boolean_mask = (column>5)\n",
    "result = column[boolean_mask]\n",
    "print(result)"
   ]
  },
  {
   "cell_type": "code",
   "execution_count": 50,
   "metadata": {},
   "outputs": [
    {
     "name": "stdout",
     "output_type": "stream",
     "text": [
      "[8 3 2 2 3 2 0 4 3 0 3 9 2 7 7]\n",
      "[False False False False False False  True False False  True False False\n",
      " False False False]\n"
     ]
    }
   ],
   "source": [
    "#11\n",
    "arr = np.random.randint(10,size = 15)\n",
    "print(arr)\n",
    "boolean_mask = (arr == 0 )\n",
    "print(boolean_mask)"
   ]
  },
  {
   "cell_type": "code",
   "execution_count": 55,
   "metadata": {},
   "outputs": [
    {
     "name": "stdout",
     "output_type": "stream",
     "text": [
      "[1 2 3 4 5 6 7 8 9]\n"
     ]
    }
   ],
   "source": [
    "#12\n",
    "arr = np.array([1,2,3,4,5,1,2,3,5,6,7,8,9])\n",
    "boolean_mask = np.unique(arr)\n",
    "print(boolean_mask)"
   ]
  },
  {
   "cell_type": "code",
   "execution_count": 64,
   "metadata": {},
   "outputs": [
    {
     "name": "stdout",
     "output_type": "stream",
     "text": [
      "6.542935121182236\n",
      "9.7\n",
      "[]\n"
     ]
    }
   ],
   "source": [
    "#13\n",
    "arr = np.random.randint(1,20,size = 20)\n",
    "standard = np.std(arr)\n",
    "print(standard)\n",
    "mean = np.mean(arr)\n",
    "print(mean)\n",
    "boolean_mask = (mean < standard)\n",
    "result = arr[boolean_mask]\n",
    "print(result)"
   ]
  },
  {
   "cell_type": "code",
   "execution_count": 56,
   "metadata": {},
   "outputs": [
    {
     "name": "stdout",
     "output_type": "stream",
     "text": [
      "[31 32 33 34 35 36 37 38 39 40 41 42 43 44 45 46 47 48 49 50 51 52 53 54\n",
      " 55 56 57 58 59]\n"
     ]
    }
   ],
   "source": [
    "#14\n",
    "arr = np.arange(100)\n",
    "boolean_mask = (arr>30) & (arr<60)\n",
    "result = arr[boolean_mask]\n",
    "print(result)"
   ]
  },
  {
   "cell_type": "code",
   "execution_count": 57,
   "metadata": {},
   "outputs": [
    {
     "name": "stdout",
     "output_type": "stream",
     "text": [
      "[ 1  2  3  4  5  1  2 30  4]\n"
     ]
    }
   ],
   "source": [
    "#15\n",
    "arr = np.array([1,2,3,4,5,0,0,0,1,0,2,30,0,4])\n",
    "boolean_mask = (arr!=0)\n",
    "result = arr[boolean_mask]\n",
    "print(result)"
   ]
  }
 ],
 "metadata": {
  "kernelspec": {
   "display_name": "Python 3",
   "language": "python",
   "name": "python3"
  },
  "language_info": {
   "codemirror_mode": {
    "name": "ipython",
    "version": 3
   },
   "file_extension": ".py",
   "mimetype": "text/x-python",
   "name": "python",
   "nbconvert_exporter": "python",
   "pygments_lexer": "ipython3",
   "version": "3.12.7"
  }
 },
 "nbformat": 4,
 "nbformat_minor": 2
}
