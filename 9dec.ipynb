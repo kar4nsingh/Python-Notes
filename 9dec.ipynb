{
 "cells": [
  {
   "cell_type": "code",
   "execution_count": 49,
   "metadata": {},
   "outputs": [
    {
     "name": "stdout",
     "output_type": "stream",
     "text": [
      " *\n",
      " **\n",
      " ***\n",
      " ****\n",
      " *****\n",
      " *****\n",
      " ****\n",
      " ***\n",
      " **\n",
      " *\n"
     ]
    }
   ],
   "source": [
    "x = 5\n",
    "for i in range(1, x+1):\n",
    "    print(\" \" + \"*\" * i)\n",
    "for i in range(x,0,-1):\n",
    "    print(\" \"+\"*\" * i)"
   ]
  },
  {
   "cell_type": "code",
   "execution_count": 104,
   "metadata": {},
   "outputs": [
    {
     "name": "stdout",
     "output_type": "stream",
     "text": [
      "\n",
      "*\n",
      "**\n",
      "***\n",
      "****\n",
      "*****\n"
     ]
    }
   ],
   "source": [
    "x = 5\n",
    "for i in range(0,x+1):\n",
    "    print(i*\"*\")"
   ]
  },
  {
   "cell_type": "code",
   "execution_count": 154,
   "metadata": {},
   "outputs": [
    {
     "name": "stdout",
     "output_type": "stream",
     "text": [
      "\n",
      "****\n",
      "******\n",
      "******\n",
      "****\n",
      "\n"
     ]
    }
   ],
   "source": [
    "x = 5\n",
    "for i in range(0,x+1):\n",
    "    print(\"*\" * (x-i) *i)"
   ]
  },
  {
   "cell_type": "code",
   "execution_count": 152,
   "metadata": {},
   "outputs": [
    {
     "name": "stdout",
     "output_type": "stream",
     "text": [
      "*****\n",
      " ****\n",
      "  ***\n",
      "   **\n",
      "    *\n"
     ]
    }
   ],
   "source": [
    "for i in range(x, 0, -1):\n",
    "    print(\" \" * (x - i) + \"*\" * i)"
   ]
  },
  {
   "cell_type": "code",
   "execution_count": 165,
   "metadata": {},
   "outputs": [
    {
     "name": "stdout",
     "output_type": "stream",
     "text": [
      "*****\n",
      " ****\n",
      "  ***\n",
      "   **\n",
      "    *\n",
      "*****\n",
      "****\n",
      "***\n",
      "**\n",
      "*\n",
      "\n"
     ]
    }
   ],
   "source": [
    "x = 5\n",
    "for i in range(x, 0, -1):\n",
    "    print(\" \" * (x - i) + \"*\" * i)\n",
    "for i in range(0,x+1,1):\n",
    "    print(\"*\" * (x-i))"
   ]
  },
  {
   "cell_type": "code",
   "execution_count": 209,
   "metadata": {},
   "outputs": [
    {
     "name": "stdout",
     "output_type": "stream",
     "text": [
      "\n",
      "*\n",
      "**\n",
      "***\n",
      "****\n",
      "****\n",
      "***\n",
      "**\n",
      "*\n",
      "\n"
     ]
    }
   ],
   "source": [
    "x = 5\n",
    "\n",
    "for i in range(1, x + 1):\n",
    "    print('*' * (i - 1))\n",
    "\n",
    "for i in range(1, x + 1):\n",
    "    print('*' * (x-i))"
   ]
  }
 ],
 "metadata": {
  "kernelspec": {
   "display_name": "Python 3",
   "language": "python",
   "name": "python3"
  },
  "language_info": {
   "codemirror_mode": {
    "name": "ipython",
    "version": 3
   },
   "file_extension": ".py",
   "mimetype": "text/x-python",
   "name": "python",
   "nbconvert_exporter": "python",
   "pygments_lexer": "ipython3",
   "version": "3.12.7"
  }
 },
 "nbformat": 4,
 "nbformat_minor": 2
}
